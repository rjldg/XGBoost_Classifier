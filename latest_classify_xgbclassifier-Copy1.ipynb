{
 "cells": [
  {
   "cell_type": "code",
   "execution_count": 227,
   "id": "a6cf8322-1348-44c8-bf98-674a3bee21c3",
   "metadata": {},
   "outputs": [],
   "source": [
    "import pandas as pd\n",
    "import joblib\n",
    "from sklearn.decomposition import PCA"
   ]
  },
  {
   "cell_type": "code",
   "execution_count": 228,
   "id": "e495a13c-c5ec-44df-8a56-10f2f77bfb15",
   "metadata": {},
   "outputs": [
    {
     "name": "stdout",
     "output_type": "stream",
     "text": [
      "Model loaded successfully.\n"
     ]
    }
   ],
   "source": [
    "# Paths to saved model and PCA transformer\n",
    "model_load_path = 'models/rev3_dec15_xgboost_oil_classifier_model.joblib'\n",
    "pca_load_path = 'models/new_pca_transformer.joblib'  # Ensure you save and load the PCA object\n",
    "new_sample_file = 'new_data/beef5.csv'  # Replace with the actual file path\n",
    "\n",
    "# Load the saved model and PCA transformer\n",
    "model = joblib.load(model_load_path)\n",
    "pca_transformer = joblib.load(pca_load_path)\n",
    "print(\"Model loaded successfully.\")\n"
   ]
  },
  {
   "cell_type": "code",
   "execution_count": 229,
   "id": "0ce3f574-d1ae-4f04-a1e4-f3d0a106419a",
   "metadata": {},
   "outputs": [],
   "source": [
    "# Extract expected feature names from the PCA transformer\n",
    "# expected_columns = pca_transformer.feature_names_in_\n",
    "\n",
    "# Align new data with expected columns\n",
    "# 1. Fill missing columns with 0 (or other default values)\n",
    "# 2. Drop extra columns not in expected_columns\n",
    "# aligned_data = new_sample_data.reindex(columns=expected_columns, fill_value=0)\n",
    "\n",
    "# Apply PCA transformation\n",
    "# new_sample_data_pca = pca_transformer.transform(aligned_data)\n",
    "# print(\"PCA transformation applied to new data.\")"
   ]
  },
  {
   "cell_type": "code",
   "execution_count": 230,
   "id": "b603afbd-b2e6-4bf2-9976-fa7c1fd2c6e8",
   "metadata": {},
   "outputs": [
    {
     "name": "stdout",
     "output_type": "stream",
     "text": [
      "Total Points: 5873\n",
      "Average Plant-based Probability: 0.01\n",
      "Average Animal-based Probability: 0.99\n",
      "Final Batch Classification: Animal-based\n"
     ]
    }
   ],
   "source": [
    "# Load new sample data\n",
    "new_sample_data = pd.read_csv(new_sample_file)\n",
    "\n",
    "# Make predictions\n",
    "probabilities = model.predict_proba(new_sample_data)  # Get prediction probabilities\n",
    "plant_based_avg_prob = probabilities[:, 1].mean()  # Average probability for class 1 (Plant-based)\n",
    "animal_based_avg_prob = probabilities[:, 0].mean()\n",
    "\n",
    "# Define the classification threshold\n",
    "classification_threshold = 0.5  # Adjust based on model calibration if needed\n",
    "final_classification = (\n",
    "    \"Plant-based\" if plant_based_avg_prob >= classification_threshold else \"Animal-based\"\n",
    ")\n",
    "\n",
    "# Output the results\n",
    "print(f\"Total Points: {len(probabilities)}\")\n",
    "print(f\"Average Plant-based Probability: {plant_based_avg_prob:.2f}\")\n",
    "print(f\"Average Animal-based Probability: {animal_based_avg_prob:.2f}\")\n",
    "print(f\"Final Batch Classification: {final_classification}\")"
   ]
  },
  {
   "cell_type": "code",
   "execution_count": 231,
   "id": "de5ed310-b89e-4f3d-b9c8-4f8a5cd464aa",
   "metadata": {},
   "outputs": [
    {
     "name": "stdout",
     "output_type": "stream",
     "text": [
      "Total Points: 5873\n",
      "Plant-based Predictions: 10\n",
      "Animal-based Predictions: 5863\n",
      "Final Batch Classification: Animal-based\n"
     ]
    }
   ],
   "source": [
    "# Make predictions\n",
    "predictions = model.predict(new_sample_data)\n",
    "\n",
    "# Apply majority logic for batch classification\n",
    "# 0 = Animal-based, 1 = Plant-based\n",
    "num_plant_based = (predictions == 1).sum()\n",
    "num_animal_based = (predictions == 0).sum()\n",
    "\n",
    "if num_plant_based > num_animal_based:\n",
    "    final_classification = \"Plant-based\"\n",
    "else:\n",
    "    final_classification = \"Animal-based\"\n",
    "\n",
    "# Output the result\n",
    "print(f\"Total Points: {len(predictions)}\")\n",
    "print(f\"Plant-based Predictions: {num_plant_based}\")\n",
    "print(f\"Animal-based Predictions: {num_animal_based}\")\n",
    "print(f\"Final Batch Classification: {final_classification}\")"
   ]
  },
  {
   "cell_type": "code",
   "execution_count": null,
   "id": "115176e1-7a00-4452-89cd-3a97ecdb4469",
   "metadata": {},
   "outputs": [],
   "source": []
  },
  {
   "cell_type": "code",
   "execution_count": null,
   "id": "ef6ffe55-9202-41d4-9236-062fa0e79936",
   "metadata": {},
   "outputs": [],
   "source": []
  }
 ],
 "metadata": {
  "kernelspec": {
   "display_name": "Python 3 (ipykernel)",
   "language": "python",
   "name": "python3"
  },
  "language_info": {
   "codemirror_mode": {
    "name": "ipython",
    "version": 3
   },
   "file_extension": ".py",
   "mimetype": "text/x-python",
   "name": "python",
   "nbconvert_exporter": "python",
   "pygments_lexer": "ipython3",
   "version": "3.12.2"
  }
 },
 "nbformat": 4,
 "nbformat_minor": 5
}
