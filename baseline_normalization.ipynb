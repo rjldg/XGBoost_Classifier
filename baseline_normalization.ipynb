{
 "cells": [
  {
   "cell_type": "code",
   "execution_count": 8,
   "id": "cb3f962c-317f-499c-a80b-f613f437f3d7",
   "metadata": {},
   "outputs": [],
   "source": [
    "import os\n",
    "import pandas as pd\n",
    "import logging"
   ]
  },
  {
   "cell_type": "code",
   "execution_count": 9,
   "id": "21973fc7-7e06-416d-b929-df840c8e5eef",
   "metadata": {},
   "outputs": [],
   "source": [
    "# Set up logging\n",
    "logging.basicConfig(\n",
    "    filename='data_processing.log',\n",
    "    level=logging.INFO,\n",
    "    format='%(asctime)s - %(levelname)s - %(message)s'\n",
    ")"
   ]
  },
  {
   "cell_type": "code",
   "execution_count": 10,
   "id": "a7586932-1290-497f-90cf-b52144935b4c",
   "metadata": {},
   "outputs": [],
   "source": [
    "# Define folder paths\n",
    "raw_data_folder = 'raw_data'\n",
    "baseline_data_folder = 'baseline_data'\n",
    "output_folder = 'normalized_data'\n",
    "\n",
    "# Ensure the output folder exists\n",
    "os.makedirs(output_folder, exist_ok=True)\n",
    "\n",
    "# List all raw data files\n",
    "raw_files = [f for f in os.listdir(raw_data_folder) if f.endswith('.csv')]"
   ]
  },
  {
   "cell_type": "code",
   "execution_count": 11,
   "id": "3fe1f70b-bb10-4fe7-9d86-3c2ebff3387d",
   "metadata": {},
   "outputs": [
    {
     "name": "stdout",
     "output_type": "stream",
     "text": [
      "All files processed. Check 'data_processing.log' for details.\n"
     ]
    }
   ],
   "source": [
    "# Process each raw data file\n",
    "for raw_file in raw_files:\n",
    "    try:\n",
    "        # Construct corresponding baseline file name\n",
    "        base_name = os.path.splitext(raw_file)[0]\n",
    "        baseline_file = f\"{base_name}_baseline.csv\"\n",
    "\n",
    "        # Paths for raw and baseline files\n",
    "        raw_file_path = os.path.join(raw_data_folder, raw_file)\n",
    "        baseline_file_path = os.path.join(baseline_data_folder, baseline_file)\n",
    "\n",
    "        # Check if the baseline file exists\n",
    "        if not os.path.exists(baseline_file_path):\n",
    "            logging.warning(f\"Baseline file missing for {raw_file}. Skipping.\")\n",
    "            continue\n",
    "\n",
    "        # Load raw and baseline data\n",
    "        raw_data = pd.read_csv(raw_file_path)\n",
    "        baseline_data = pd.read_csv(baseline_file_path)\n",
    "\n",
    "        # Ensure data integrity\n",
    "        if raw_data.empty or baseline_data.empty:\n",
    "            logging.warning(f\"File is empty: {raw_file} or {baseline_file}. Skipping.\")\n",
    "            continue\n",
    "        if not all(raw_data.columns == baseline_data.columns):\n",
    "            logging.warning(f\"Column mismatch between {raw_file} and {baseline_file}. Skipping.\")\n",
    "            continue\n",
    "\n",
    "        # Compute column-wise mean of baseline data\n",
    "        baseline_mean = baseline_data.mean()\n",
    "\n",
    "        # Subtract baseline mean from raw data\n",
    "        adjusted_data = raw_data - baseline_mean\n",
    "\n",
    "        # Save the adjusted data to the output folder\n",
    "        output_file_path = os.path.join(output_folder, raw_file)\n",
    "        adjusted_data.to_csv(output_file_path, index=False)\n",
    "        logging.info(f\"Processed and saved: {output_file_path}\")\n",
    "\n",
    "    except Exception as e:\n",
    "        # Log any unexpected errors during processing\n",
    "        logging.error(f\"Error processing {raw_file}: {e}\")\n",
    "\n",
    "print(\"All files processed. Check 'data_processing.log' for details.\")"
   ]
  },
  {
   "cell_type": "code",
   "execution_count": 12,
   "id": "3bd28677-a8c3-4765-8526-62e6e4d595b3",
   "metadata": {},
   "outputs": [
    {
     "data": {
      "text/plain": [
       "MQ2       68.111111\n",
       "MQ3      115.777778\n",
       "MQ4       94.026144\n",
       "MQ5       43.862745\n",
       "MQ6      165.816993\n",
       "MQ7      167.490196\n",
       "MQ8      333.790850\n",
       "MQ9      176.307190\n",
       "MQ135    138.222222\n",
       "MQ137    198.614379\n",
       "dtype: float64"
      ]
     },
     "execution_count": 12,
     "metadata": {},
     "output_type": "execute_result"
    }
   ],
   "source": [
    "baseline_data.mean()"
   ]
  },
  {
   "cell_type": "code",
   "execution_count": null,
   "id": "0c3b2375-882d-49d1-a39f-a90ab8e1d201",
   "metadata": {},
   "outputs": [],
   "source": []
  }
 ],
 "metadata": {
  "kernelspec": {
   "display_name": "Python 3 (ipykernel)",
   "language": "python",
   "name": "python3"
  },
  "language_info": {
   "codemirror_mode": {
    "name": "ipython",
    "version": 3
   },
   "file_extension": ".py",
   "mimetype": "text/x-python",
   "name": "python",
   "nbconvert_exporter": "python",
   "pygments_lexer": "ipython3",
   "version": "3.12.2"
  }
 },
 "nbformat": 4,
 "nbformat_minor": 5
}
