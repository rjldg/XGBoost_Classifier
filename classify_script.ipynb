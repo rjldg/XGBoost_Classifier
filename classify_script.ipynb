{
 "cells": [
  {
   "cell_type": "code",
   "execution_count": 451,
   "id": "a6cf8322-1348-44c8-bf98-674a3bee21c3",
   "metadata": {},
   "outputs": [],
   "source": [
    "import pandas as pd\n",
    "import joblib\n",
    "from sklearn.decomposition import PCA"
   ]
  },
  {
   "cell_type": "code",
   "execution_count": 452,
   "id": "e495a13c-c5ec-44df-8a56-10f2f77bfb15",
   "metadata": {},
   "outputs": [
    {
     "name": "stdout",
     "output_type": "stream",
     "text": [
      "Model loaded successfully.\n"
     ]
    }
   ],
   "source": [
    "# Paths to saved model and PCA transformer\n",
    "model_load_path = 'models/jan2_xgbclassifier_model.joblib'\n",
    "#model_load_path = 'models/dec30_linearsvc_model.joblib'\n",
    "#model_load_path = 'models/dec30_sgdclassifier_model.joblib'\n",
    "\n",
    "new_sample_file = 'processed_data/Validation/nut3.csv'  # Replace with the actual file path\n",
    "\n",
    "# Load the saved model\n",
    "model = joblib.load(model_load_path)\n",
    "# pca_transformer = joblib.load(pca_load_path)\n",
    "print(\"Model loaded successfully.\")"
   ]
  },
  {
   "cell_type": "code",
   "execution_count": 453,
   "id": "d2a54593-c662-4c49-9592-d73ec78e6167",
   "metadata": {},
   "outputs": [],
   "source": [
    "# Load new sample data\n",
    "new_sample_data = pd.read_csv(new_sample_file)"
   ]
  },
  {
   "cell_type": "code",
   "execution_count": 454,
   "id": "b603afbd-b2e6-4bf2-9976-fa7c1fd2c6e8",
   "metadata": {},
   "outputs": [
    {
     "name": "stdout",
     "output_type": "stream",
     "text": [
      "Total Points: 6405\n",
      "Average Plant-based Probability: 0.85\n",
      "Average Animal-based Probability: 0.15\n",
      "Final Batch Classification: Plant-based\n"
     ]
    }
   ],
   "source": [
    "\n",
    "# Load new sample data\n",
    "new_sample_data = pd.read_csv(new_sample_file)\n",
    "\n",
    "# Make predictions\n",
    "probabilities = model.predict_proba(new_sample_data)  # Get prediction probabilities\n",
    "plant_based_avg_prob = probabilities[:, 1].mean()  # Average probability for class 1 (Plant-based)\n",
    "animal_based_avg_prob = probabilities[:, 0].mean()\n",
    "\n",
    "# Define the classification threshold\n",
    "classification_threshold = 0.5  # Adjust based on model calibration if needed\n",
    "final_classification = (\n",
    "    \"Plant-based\" if plant_based_avg_prob >= classification_threshold else \"Animal-based\"\n",
    ")\n",
    "\n",
    "# Output the results\n",
    "print(f\"Total Points: {len(probabilities)}\")\n",
    "print(f\"Average Plant-based Probability: {plant_based_avg_prob:.2f}\")\n",
    "print(f\"Average Animal-based Probability: {animal_based_avg_prob:.2f}\")\n",
    "print(f\"Final Batch Classification: {final_classification}\")\n"
   ]
  },
  {
   "cell_type": "code",
   "execution_count": 455,
   "id": "de5ed310-b89e-4f3d-b9c8-4f8a5cd464aa",
   "metadata": {},
   "outputs": [
    {
     "name": "stdout",
     "output_type": "stream",
     "text": [
      "Total Points: 6405\n",
      "Plant-based Predictions: 5904\n",
      "Animal-based Predictions: 501\n",
      "Final Batch Classification: Plant-based\n"
     ]
    }
   ],
   "source": [
    "# Make predictions\n",
    "predictions = model.predict(new_sample_data)\n",
    "\n",
    "# Apply majority logic for batch classification\n",
    "# 0 = Animal-based, 1 = Plant-based\n",
    "num_plant_based = (predictions == 1).sum()\n",
    "num_animal_based = (predictions == 0).sum()\n",
    "\n",
    "if num_plant_based > num_animal_based:\n",
    "    final_classification = \"Plant-based\"\n",
    "else:\n",
    "    final_classification = \"Animal-based\"\n",
    "\n",
    "# Output the result\n",
    "print(f\"Total Points: {len(predictions)}\")\n",
    "print(f\"Plant-based Predictions: {num_plant_based}\")\n",
    "print(f\"Animal-based Predictions: {num_animal_based}\")\n",
    "print(f\"Final Batch Classification: {final_classification}\")"
   ]
  },
  {
   "cell_type": "code",
   "execution_count": null,
   "id": "19755fb2-5fe6-4bff-b1b0-dc179c2b1044",
   "metadata": {},
   "outputs": [],
   "source": []
  }
 ],
 "metadata": {
  "kernelspec": {
   "display_name": "Python 3 (ipykernel)",
   "language": "python",
   "name": "python3"
  },
  "language_info": {
   "codemirror_mode": {
    "name": "ipython",
    "version": 3
   },
   "file_extension": ".py",
   "mimetype": "text/x-python",
   "name": "python",
   "nbconvert_exporter": "python",
   "pygments_lexer": "ipython3",
   "version": "3.12.2"
  }
 },
 "nbformat": 4,
 "nbformat_minor": 5
}
