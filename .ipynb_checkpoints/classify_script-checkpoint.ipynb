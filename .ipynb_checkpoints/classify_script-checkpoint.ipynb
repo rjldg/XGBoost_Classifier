{
 "cells": [
  {
   "cell_type": "code",
   "execution_count": 33,
   "id": "a6cf8322-1348-44c8-bf98-674a3bee21c3",
   "metadata": {},
   "outputs": [
    {
     "name": "stdout",
     "output_type": "stream",
     "text": [
      "Model loaded successfully.\n"
     ]
    }
   ],
   "source": [
    "# Load necessary libraries\n",
    "import pandas as pd\n",
    "import joblib\n",
    "\n",
    "# Path to the saved model\n",
    "model_load_path = 'models/dec7_xgboost_oil_classifier_model.joblib'\n",
    "\n",
    "# Load the saved model\n",
    "model = joblib.load(model_load_path)\n",
    "print(\"Model loaded successfully.\")"
   ]
  },
  {
   "cell_type": "code",
   "execution_count": 35,
   "id": "e495a13c-c5ec-44df-8a56-10f2f77bfb15",
   "metadata": {},
   "outputs": [],
   "source": [
    "# Load new sample data\n",
    "new_sample_file = 'new_data/pork6.csv'  # Replace with the actual file path\n",
    "new_sample_data = pd.read_csv(new_sample_file)\n",
    "\n",
    "# Ensure the data has the same structure as the training set (except for 'Class' column)\n",
    "# Drop any unnecessary columns and preprocess as necessary"
   ]
  },
  {
   "cell_type": "code",
   "execution_count": 36,
   "id": "0ce3f574-d1ae-4f04-a1e4-f3d0a106419a",
   "metadata": {},
   "outputs": [
    {
     "name": "stdout",
     "output_type": "stream",
     "text": [
      "Total Points: 6240\n",
      "Plant-based Predictions: 5171\n",
      "Animal-based Predictions: 1069\n",
      "Final Batch Classification: Plant-based\n"
     ]
    }
   ],
   "source": [
    "# Make predictions\n",
    "predictions = model.predict(new_sample_data)\n",
    "\n",
    "# Apply majority logic for batch classification\n",
    "# 0 = Animal-based, 1 = Plant-based\n",
    "num_plant_based = (predictions == 1).sum()\n",
    "num_animal_based = (predictions == 0).sum()\n",
    "\n",
    "if num_plant_based > num_animal_based:\n",
    "    final_classification = \"Plant-based\"\n",
    "else:\n",
    "    final_classification = \"Animal-based\"\n",
    "\n",
    "# Output the result\n",
    "print(f\"Total Points: {len(predictions)}\")\n",
    "print(f\"Plant-based Predictions: {num_plant_based}\")\n",
    "print(f\"Animal-based Predictions: {num_animal_based}\")\n",
    "print(f\"Final Batch Classification: {final_classification}\")"
   ]
  },
  {
   "cell_type": "code",
   "execution_count": null,
   "id": "de5ed310-b89e-4f3d-b9c8-4f8a5cd464aa",
   "metadata": {},
   "outputs": [],
   "source": []
  }
 ],
 "metadata": {
  "kernelspec": {
   "display_name": "Python 3 (ipykernel)",
   "language": "python",
   "name": "python3"
  },
  "language_info": {
   "codemirror_mode": {
    "name": "ipython",
    "version": 3
   },
   "file_extension": ".py",
   "mimetype": "text/x-python",
   "name": "python",
   "nbconvert_exporter": "python",
   "pygments_lexer": "ipython3",
   "version": "3.12.2"
  }
 },
 "nbformat": 4,
 "nbformat_minor": 5
}
